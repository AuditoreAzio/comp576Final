{
 "cells": [
  {
   "cell_type": "code",
   "execution_count": 1,
   "metadata": {},
   "outputs": [],
   "source": [
    "import numpy as np \n",
    "import pandas as pd \n",
    "import matplotlib.pyplot as plt\n",
    "import cv2\n",
    "import tensorflow as tf\n",
    "from PIL import Image\n",
    "import os\n",
    "from sklearn.model_selection import train_test_split\n",
    "from keras.utils import to_categorical\n",
    "from keras.models import Sequential, load_model, Model\n",
    "from keras.layers import Conv2D, MaxPool2D, Dense, Flatten, Dropout,GlobalAveragePooling2D, GlobalMaxPooling2D, AveragePooling2D\n",
    "from keras.applications import MobileNet\n",
    "from shuffleNet import ShuffleNet\n",
    "\n",
    "data = []\n",
    "labels = []\n",
    "classes = 43\n",
    "cur_path = os.getcwd()\n",
    "\n",
    "#Retrieving the images and their labels \n",
    "for i in range(classes):\n",
    "    path = os.path.join(cur_path,'train',str(i))\n",
    "    images = os.listdir(path)\n",
    "\n",
    "    for a in images:\n",
    "        try:\n",
    "            image = Image.open(path + '\\\\'+ a)\n",
    "            image = image.resize((32,32))\n",
    "            image = np.array(image)\n",
    "            #sim = Image.fromarray(image)\n",
    "            data.append(image)\n",
    "            labels.append(i)\n",
    "        except:\n",
    "            print(\"Error loading image\")\n",
    "\n",
    "#Converting lists into numpy arrays\n",
    "data = np.array(data)\n",
    "labels = np.array(labels)"
   ]
  },
  {
   "cell_type": "code",
   "execution_count": 2,
   "metadata": {},
   "outputs": [
    {
     "name": "stdout",
     "output_type": "stream",
     "text": [
      "(39209, 32, 32, 3) (39209,)\n",
      "(31367, 32, 32, 3) (7842, 32, 32, 3) (31367,) (7842,)\n"
     ]
    }
   ],
   "source": [
    "print(data.shape, labels.shape)\n",
    "#Splitting training and testing dataset\n",
    "X_train, X_test, y_train, y_test = train_test_split(data, labels, test_size=0.2, random_state=42)\n",
    "\n",
    "print(X_train.shape, X_test.shape, y_train.shape, y_test.shape)\n",
    "\n",
    "#Converting the labels into one hot encoding\n",
    "y_train = to_categorical(y_train, 43)\n",
    "y_test = to_categorical(y_test, 43)"
   ]
  },
  {
   "cell_type": "code",
   "execution_count": 3,
   "metadata": {},
   "outputs": [
    {
     "name": "stdout",
     "output_type": "stream",
     "text": [
      "WARNING:tensorflow:`input_shape` is undefined or non-square, or `rows` is not in [128, 160, 192, 224]. Weights for input shape (224, 224) will be loaded as the default.\n"
     ]
    }
   ],
   "source": [
    "#Building the model\n",
    "def cnnModel():\n",
    "    model = Sequential()\n",
    "    model.add(Conv2D(filters=32, kernel_size=(5,5), activation='relu', input_shape=X_train.shape[1:]))\n",
    "    model.add(Conv2D(filters=32, kernel_size=(5,5), activation='relu'))\n",
    "    model.add(MaxPool2D(pool_size=(2, 2)))\n",
    "    model.add(Dropout(rate=0.25))\n",
    "    model.add(Conv2D(filters=64, kernel_size=(3, 3), activation='relu'))\n",
    "    model.add(Conv2D(filters=64, kernel_size=(3, 3), activation='relu'))\n",
    "    model.add(MaxPool2D(pool_size=(2, 2)))\n",
    "    model.add(Dropout(rate=0.25))\n",
    "    model.add(Flatten())\n",
    "    model.add(Dense(256, activation='relu'))\n",
    "    model.add(Dropout(rate=0.5))\n",
    "    model.add(Dense(43, activation='softmax'))\n",
    "    return model\n",
    "\n",
    "def mobileNet():\n",
    "    base_model=MobileNet(input_shape=X_train.shape[1:],weights='imagenet',include_top=False) #imports the mobilenet model and discards the last 1000 neuron layer.\n",
    "\n",
    "    x=base_model.output\n",
    "    x=GlobalAveragePooling2D()(x)\n",
    "    x=Dense(1024,activation='relu')(x) #we add dense layers so that the model can learn more complex functions and classify for better results.\n",
    "    x=Dense(1024,activation='relu')(x) #dense layer 2\n",
    "    x=Dense(512,activation='relu')(x) #dense layer 3\n",
    "    preds=Dense(43,activation='softmax')(x) #final layer with softmax activation\n",
    "    model = Model(inputs=base_model.input,outputs=preds)\n",
    "    return model\n",
    "\n",
    "def leNet():\n",
    "    #Instantiate an empty model\n",
    "    model = Sequential()\n",
    "\n",
    "    # C1 Convolutional Layer\n",
    "    model.add(Conv2D(6, kernel_size=(5, 5), strides=(1, 1), activation='relu', input_shape=X_train.shape[1:], padding=\"same\"))\n",
    "\n",
    "    # S2 Pooling Layer\n",
    "    model.add(AveragePooling2D(pool_size=(2, 2), strides=(1, 1), padding='valid'))\n",
    "\n",
    "    # C3 Convolutional Layer\n",
    "    model.add(Conv2D(16, kernel_size=(5, 5), strides=(1, 1), activation='relu', padding='valid'))\n",
    "\n",
    "    # S4 Pooling Layer\n",
    "    model.add(AveragePooling2D(pool_size=(2, 2), strides=(2, 2), padding='valid'))\n",
    "\n",
    "    # C5 Fully Connected Convolutional Layer\n",
    "    model.add(Conv2D(120, kernel_size=(5, 5), strides=(1, 1), activation='relu', padding='valid'))\n",
    "    #Flatten the CNN output so that we can connect it with fully connected layers\n",
    "    model.add(Flatten())\n",
    "\n",
    "    # FC6 Fully Connected Layer\n",
    "    model.add(Dense(256, activation='tanh'))\n",
    "\n",
    "    #Output Layer with softmax activation\n",
    "    model.add(Dense(43, activation='softmax'))\n",
    "    return model\n",
    "\n",
    "model = mobileNet()\n",
    "#model = cnnModel()\n",
    "#model = ShuffleNet(include_top=True, input_shape=X_train.shape[1:],load_model=None, classes=43, pooling='avg')\n",
    "#model= leNet()\n",
    "\n",
    "model.compile(loss='categorical_crossentropy', optimizer='adam', metrics=['accuracy'])"
   ]
  },
  {
   "cell_type": "code",
   "execution_count": 4,
   "metadata": {},
   "outputs": [
    {
     "name": "stdout",
     "output_type": "stream",
     "text": [
      "Epoch 1/15\n",
      "491/491 [==============================] - 8s 16ms/step - loss: 1.0318 - accuracy: 0.7006 - val_loss: 0.7813 - val_accuracy: 0.8129\n",
      "Epoch 2/15\n",
      "491/491 [==============================] - 7s 14ms/step - loss: 0.2927 - accuracy: 0.9242 - val_loss: 0.3304 - val_accuracy: 0.9183\n",
      "Epoch 3/15\n",
      "491/491 [==============================] - 7s 14ms/step - loss: 0.2091 - accuracy: 0.9498 - val_loss: 0.2743 - val_accuracy: 0.9343\n",
      "Epoch 4/15\n",
      "491/491 [==============================] - 7s 14ms/step - loss: 0.1375 - accuracy: 0.9688 - val_loss: 0.4549 - val_accuracy: 0.8993\n",
      "Epoch 5/15\n",
      "491/491 [==============================] - 7s 14ms/step - loss: 0.1492 - accuracy: 0.9654 - val_loss: 0.3059 - val_accuracy: 0.9214\n",
      "Epoch 6/15\n",
      "491/491 [==============================] - 7s 14ms/step - loss: 0.1311 - accuracy: 0.9721 - val_loss: 0.2060 - val_accuracy: 0.9561\n",
      "Epoch 7/15\n",
      "491/491 [==============================] - 7s 14ms/step - loss: 0.1218 - accuracy: 0.9748 - val_loss: 0.0687 - val_accuracy: 0.9838\n",
      "Epoch 8/15\n",
      "491/491 [==============================] - 7s 14ms/step - loss: 0.1174 - accuracy: 0.9753 - val_loss: 0.1073 - val_accuracy: 0.9777\n",
      "Epoch 9/15\n",
      "491/491 [==============================] - 7s 14ms/step - loss: 0.1074 - accuracy: 0.9781 - val_loss: 0.0619 - val_accuracy: 0.9843\n",
      "Epoch 10/15\n",
      "491/491 [==============================] - 7s 15ms/step - loss: 0.0977 - accuracy: 0.9812 - val_loss: 0.0387 - val_accuracy: 0.9927\n",
      "Epoch 11/15\n",
      "491/491 [==============================] - 7s 15ms/step - loss: 0.0626 - accuracy: 0.9866 - val_loss: 0.1073 - val_accuracy: 0.9777\n",
      "Epoch 12/15\n",
      "491/491 [==============================] - 7s 15ms/step - loss: 0.0775 - accuracy: 0.9846 - val_loss: 0.1550 - val_accuracy: 0.9760\n",
      "Epoch 13/15\n",
      "491/491 [==============================] - 7s 15ms/step - loss: 0.0769 - accuracy: 0.9856 - val_loss: 0.0411 - val_accuracy: 0.9908\n",
      "Epoch 14/15\n",
      "491/491 [==============================] - 7s 15ms/step - loss: 0.0723 - accuracy: 0.9855 - val_loss: 0.1080 - val_accuracy: 0.9824\n",
      "Epoch 15/15\n",
      "491/491 [==============================] - 8s 15ms/step - loss: 0.0633 - accuracy: 0.9876 - val_loss: 0.0701 - val_accuracy: 0.9848\n"
     ]
    }
   ],
   "source": [
    "epochs = 15\n",
    "history = model.fit(X_train, y_train, batch_size=64, epochs=epochs, validation_data=(X_test, y_test))\n",
    "model.save(\"my_model.h5\")"
   ]
  },
  {
   "cell_type": "code",
   "execution_count": 5,
   "metadata": {},
   "outputs": [
    {
     "data": {
      "image/png": "[encoded data removed]",
      "text/plain": [
       "<Figure size 432x288 with 1 Axes>"
      ]
     },
     "metadata": {
      "needs_background": "light"
     },
     "output_type": "display_data"
    },
    {
     "data": {
      "image/png": "[encoded data removed]",
      "text/plain": [
       "<Figure size 432x288 with 1 Axes>"
      ]
     },
     "metadata": {
      "needs_background": "light"
     },
     "output_type": "display_data"
    }
   ],
   "source": [
    "#plotting graphs for accuracy \n",
    "plt.figure(0)\n",
    "plt.plot(history.history['accuracy'], label='training accuracy')\n",
    "plt.plot(history.history['val_accuracy'], label='val accuracy')\n",
    "plt.title('Accuracy')\n",
    "plt.xlabel('epochs')\n",
    "plt.ylabel('accuracy')\n",
    "plt.legend()\n",
    "plt.show()\n",
    "\n",
    "plt.figure(1)\n",
    "plt.plot(history.history['loss'], label='training loss')\n",
    "plt.plot(history.history['val_loss'], label='val loss')\n",
    "plt.title('Loss')\n",
    "plt.xlabel('epochs')\n",
    "plt.ylabel('loss')\n",
    "plt.legend()\n",
    "plt.show()"
   ]
  },
  {
   "cell_type": "code",
   "execution_count": 6,
   "metadata": {},
   "outputs": [
    {
     "name": "stdout",
     "output_type": "stream",
     "text": [
      "0.9471892319873317\n"
     ]
    }
   ],
   "source": [
    "#testing accuracy on test dataset\n",
    "from sklearn.metrics import accuracy_score\n",
    "\n",
    "y_test = pd.read_csv('Test.csv')\n",
    "\n",
    "labels = y_test[\"ClassId\"].values\n",
    "imgs = y_test[\"Path\"].values\n",
    "\n",
    "data=[]\n",
    "\n",
    "for img in imgs:\n",
    "    image = Image.open(img)\n",
    "    image = image.resize((32,32))\n",
    "    data.append(np.array(image))\n",
    "\n",
    "X_test=np.array(data)\n",
    "\n",
    "pred = np.argmax(model.predict(X_test), axis=-1)\n",
    "\n",
    "#Accuracy with the test data\n",
    "from sklearn.metrics import accuracy_score\n",
    "print(accuracy_score(labels, pred))"
   ]
  },
  {
   "cell_type": "code",
   "execution_count": null,
   "metadata": {},
   "outputs": [],
   "source": []
  }
 ],
 "metadata": {
  "kernelspec": {
   "display_name": "Python 3",
   "language": "python",
   "name": "python3"
  },
  "language_info": {
   "codemirror_mode": {
    "name": "ipython",
    "version": 3
   },
   "file_extension": ".py",
   "mimetype": "text/x-python",
   "name": "python",
   "nbconvert_exporter": "python",
   "pygments_lexer": "ipython3",
   "version": "3.8.5"
  }
 },
 "nbformat": 4,
 "nbformat_minor": 4
}
